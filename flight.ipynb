{
 "cells": [
  {
   "cell_type": "code",
   "execution_count": 1,
   "id": "a5ae1ae9",
   "metadata": {},
   "outputs": [
    {
     "data": {
      "text/html": [
       "<div>\n",
       "<style scoped>\n",
       "    .dataframe tbody tr th:only-of-type {\n",
       "        vertical-align: middle;\n",
       "    }\n",
       "\n",
       "    .dataframe tbody tr th {\n",
       "        vertical-align: top;\n",
       "    }\n",
       "\n",
       "    .dataframe thead th {\n",
       "        text-align: right;\n",
       "    }\n",
       "</style>\n",
       "<table border=\"1\" class=\"dataframe\">\n",
       "  <thead>\n",
       "    <tr style=\"text-align: right;\">\n",
       "      <th></th>\n",
       "      <th>Unnamed: 0</th>\n",
       "      <th>airline</th>\n",
       "      <th>flight</th>\n",
       "      <th>source_city</th>\n",
       "      <th>departure_time</th>\n",
       "      <th>stops</th>\n",
       "      <th>arrival_time</th>\n",
       "      <th>destination_city</th>\n",
       "      <th>class</th>\n",
       "      <th>duration</th>\n",
       "      <th>days_left</th>\n",
       "      <th>price</th>\n",
       "    </tr>\n",
       "  </thead>\n",
       "  <tbody>\n",
       "    <tr>\n",
       "      <th>0</th>\n",
       "      <td>0</td>\n",
       "      <td>SpiceJet</td>\n",
       "      <td>SG-8709</td>\n",
       "      <td>Delhi</td>\n",
       "      <td>Evening</td>\n",
       "      <td>zero</td>\n",
       "      <td>Night</td>\n",
       "      <td>Mumbai</td>\n",
       "      <td>Economy</td>\n",
       "      <td>2.17</td>\n",
       "      <td>1</td>\n",
       "      <td>5953</td>\n",
       "    </tr>\n",
       "    <tr>\n",
       "      <th>1</th>\n",
       "      <td>1</td>\n",
       "      <td>SpiceJet</td>\n",
       "      <td>SG-8157</td>\n",
       "      <td>Delhi</td>\n",
       "      <td>Early_Morning</td>\n",
       "      <td>zero</td>\n",
       "      <td>Morning</td>\n",
       "      <td>Mumbai</td>\n",
       "      <td>Economy</td>\n",
       "      <td>2.33</td>\n",
       "      <td>1</td>\n",
       "      <td>5953</td>\n",
       "    </tr>\n",
       "    <tr>\n",
       "      <th>2</th>\n",
       "      <td>2</td>\n",
       "      <td>AirAsia</td>\n",
       "      <td>I5-764</td>\n",
       "      <td>Delhi</td>\n",
       "      <td>Early_Morning</td>\n",
       "      <td>zero</td>\n",
       "      <td>Early_Morning</td>\n",
       "      <td>Mumbai</td>\n",
       "      <td>Economy</td>\n",
       "      <td>2.17</td>\n",
       "      <td>1</td>\n",
       "      <td>5956</td>\n",
       "    </tr>\n",
       "    <tr>\n",
       "      <th>3</th>\n",
       "      <td>3</td>\n",
       "      <td>Vistara</td>\n",
       "      <td>UK-995</td>\n",
       "      <td>Delhi</td>\n",
       "      <td>Morning</td>\n",
       "      <td>zero</td>\n",
       "      <td>Afternoon</td>\n",
       "      <td>Mumbai</td>\n",
       "      <td>Economy</td>\n",
       "      <td>2.25</td>\n",
       "      <td>1</td>\n",
       "      <td>5955</td>\n",
       "    </tr>\n",
       "    <tr>\n",
       "      <th>4</th>\n",
       "      <td>4</td>\n",
       "      <td>Vistara</td>\n",
       "      <td>UK-963</td>\n",
       "      <td>Delhi</td>\n",
       "      <td>Morning</td>\n",
       "      <td>zero</td>\n",
       "      <td>Morning</td>\n",
       "      <td>Mumbai</td>\n",
       "      <td>Economy</td>\n",
       "      <td>2.33</td>\n",
       "      <td>1</td>\n",
       "      <td>5955</td>\n",
       "    </tr>\n",
       "  </tbody>\n",
       "</table>\n",
       "</div>"
      ],
      "text/plain": [
       "   Unnamed: 0   airline   flight source_city departure_time stops  \\\n",
       "0           0  SpiceJet  SG-8709       Delhi        Evening  zero   \n",
       "1           1  SpiceJet  SG-8157       Delhi  Early_Morning  zero   \n",
       "2           2   AirAsia   I5-764       Delhi  Early_Morning  zero   \n",
       "3           3   Vistara   UK-995       Delhi        Morning  zero   \n",
       "4           4   Vistara   UK-963       Delhi        Morning  zero   \n",
       "\n",
       "    arrival_time destination_city    class  duration  days_left  price  \n",
       "0          Night           Mumbai  Economy      2.17          1   5953  \n",
       "1        Morning           Mumbai  Economy      2.33          1   5953  \n",
       "2  Early_Morning           Mumbai  Economy      2.17          1   5956  \n",
       "3      Afternoon           Mumbai  Economy      2.25          1   5955  \n",
       "4        Morning           Mumbai  Economy      2.33          1   5955  "
      ]
     },
     "execution_count": 1,
     "metadata": {},
     "output_type": "execute_result"
    }
   ],
   "source": [
    "import pandas as pd\n",
    "import numpy as np   \n",
    "import matplotlib.pyplot as plt\n",
    "import seaborn as sns\n",
    "#importing required libereries\n",
    "sns.set_theme(style='whitegrid')\n",
    "%matplotlib inline\n",
    "df=pd.read_csv(\"Clean_Dataset.csv\")    #loading data present in the same folder\n",
    "df.head()\n"
   ]
  },
  {
   "cell_type": "code",
   "execution_count": 2,
   "id": "464cdd0a",
   "metadata": {},
   "outputs": [
    {
     "name": "stdout",
     "output_type": "stream",
     "text": [
      "<class 'pandas.core.frame.DataFrame'>\n",
      "RangeIndex: 300153 entries, 0 to 300152\n",
      "Data columns (total 12 columns):\n",
      " #   Column            Non-Null Count   Dtype  \n",
      "---  ------            --------------   -----  \n",
      " 0   Unnamed: 0        300153 non-null  int64  \n",
      " 1   airline           300153 non-null  object \n",
      " 2   flight            300153 non-null  object \n",
      " 3   source_city       300153 non-null  object \n",
      " 4   departure_time    300153 non-null  object \n",
      " 5   stops             300153 non-null  object \n",
      " 6   arrival_time      300153 non-null  object \n",
      " 7   destination_city  300153 non-null  object \n",
      " 8   class             300153 non-null  object \n",
      " 9   duration          300153 non-null  float64\n",
      " 10  days_left         300153 non-null  int64  \n",
      " 11  price             300153 non-null  int64  \n",
      "dtypes: float64(1), int64(3), object(8)\n",
      "memory usage: 27.5+ MB\n"
     ]
    },
    {
     "data": {
      "text/plain": [
       "Unnamed: 0          0\n",
       "airline             0\n",
       "flight              0\n",
       "source_city         0\n",
       "departure_time      0\n",
       "stops               0\n",
       "arrival_time        0\n",
       "destination_city    0\n",
       "class               0\n",
       "duration            0\n",
       "days_left           0\n",
       "price               0\n",
       "dtype: int64"
      ]
     },
     "execution_count": 2,
     "metadata": {},
     "output_type": "execute_result"
    }
   ],
   "source": [
    "df.info()\n",
    "df.describe()\n",
    "df.columns\n",
    "df.isnull().sum()\n",
    "#data checking \n"
   ]
  },
  {
   "cell_type": "code",
   "execution_count": 3,
   "id": "b3e72073",
   "metadata": {},
   "outputs": [
    {
     "data": {
      "image/png": "[encoded data removed]",
      "text/plain": [
       "<Figure size 1500x500 with 1 Axes>"
      ]
     },
     "metadata": {},
     "output_type": "display_data"
    }
   ],
   "source": [
    "plt.figure(figsize=(15,5))\n",
    "sns.histplot(df['price'], bins=50)\n",
    "plt.title(\"Distribution of Flight Prices\")\n",
    "plt.xlabel(\"Price\")\n",
    "plt.ylabel(\"Frequency\")\n",
    "plt.show()\n",
    "#ploting basic graphs for information \n"
   ]
  },
  {
   "cell_type": "code",
   "execution_count": 4,
   "id": "53a165fa",
   "metadata": {},
   "outputs": [
    {
     "data": {
      "image/png": "[encoded data removed]",
      "text/plain": [
       "<Figure size 1000x500 with 1 Axes>"
      ]
     },
     "metadata": {},
     "output_type": "display_data"
    }
   ],
   "source": [
    "plt.figure(figsize=(10,5))\n",
    "sns.countplot(y='airline', data=df, order=df['airline'].value_counts().index)\n",
    "plt.title(\"Flight Count per Airline\")\n",
    "plt.xlabel(\"Count\")\n",
    "plt.ylabel(\"Airline\")\n",
    "plt.show()\n",
    "#ploting graphs for understanding datsset\n"
   ]
  },
  {
   "cell_type": "markdown",
   "id": "5c8dae43",
   "metadata": {},
   "source": [
    "df[\"class\"]=df[\"class\"].replace({\n",
    "    'Economy':1,\n",
    "    'Business':0\n",
    "})\n",
    "#changing \"Economy\" \"Business\" to 1 and 0 making it easy for model to understad \n"
   ]
  },
  {
   "cell_type": "markdown",
   "id": "2f4c96fa",
   "metadata": {},
   "source": [
    "df[\"departure_time\"]=df[\"departure_time\"].replace({\n",
    "    'Early_Morning':0,\n",
    "    'Morning':1,\n",
    "    'Afternoon':2,\n",
    "    'Evening':3,\n",
    "    'Night':4,\n",
    "    'Late_Night':\n",
    "})\n",
    "#changing timings to integer line 0,1,2.... making easy for model\n"
   ]
  },
  {
   "cell_type": "markdown",
   "id": "899421fd",
   "metadata": {},
   "source": [
    "\n",
    "from sklearn.preprocessing import LabelEncoder\n",
    "\n",
    "le = LabelEncoder()\n",
    "\n",
    "# Fit and transform\n",
    "df['source_city_encoded'] = le.fit_transform(df['source_city'])\n",
    "# Print the mapping\n",
    "for i, city in enumerate(le.classes_):\n",
    "    print(f\"{city} → {i}\")\n",
    "\"\"\"Bangalore → 0\n",
    "Chennai → 1\n",
    "Delhi → 2\n",
    "Hyderabad → 3\n",
    "Kolkata → 4\n",
    "Mumbai → 5\"\"\""
   ]
  },
  {
   "cell_type": "markdown",
   "id": "61f0d3d6",
   "metadata": {},
   "source": [
    "# source_city\tdeparture_time\tstops\tarrival_time\tdestination_city\tclass\tduration\tdays_left\tprice\n",
    "# features=['source_city','destination_city','class','duration','days_left','departure_time']\n",
    "# x=pd.get_dummies(df[features], drop_first=True)\n",
    "# y=df['price']\n",
    "# x_array=np.array(x)\n",
    "# y_array=np.array(y)\n",
    "from sklearn.preprocessing import LabelEncoder\n",
    "le = LabelEncoder()\n",
    "df['source_city'] = le.fit_transform(df['source_city'])\n",
    "df['destination_city'] = le.fit_transform(df['destination_city'])\n",
    "df['class'] = le.fit_transform(df['class'])\n",
    "df['departure_time'] = le.fit_transform(df['departure_time'])\n",
    "features = ['source_city', 'destination_city', 'class', 'duration', 'days_left', 'departure_time']\n",
    "X = df[features]\n",
    "y = df['price']\n",
    "x_array = np.array(X)\n",
    "y_array = np.array(y)\n",
    "# y = w1x1 + w2x2 + w3x3 + w4x4 + w5x5 + w6x6\n"
   ]
  },
  {
   "cell_type": "code",
   "execution_count": 54,
   "id": "94d8143b",
   "metadata": {},
   "outputs": [
    {
     "name": "stdout",
     "output_type": "stream",
     "text": [
      "Label encoding for 'source_city':\n",
      "Bangalore → 0\n",
      "Chennai → 1\n",
      "Delhi → 2\n",
      "Hyderabad → 3\n",
      "Kolkata → 4\n",
      "Mumbai → 5\n",
      "\n",
      "Label encoding for 'destination_city':\n",
      "Bangalore → 0\n",
      "Chennai → 1\n",
      "Delhi → 2\n",
      "Hyderabad → 3\n",
      "Kolkata → 4\n",
      "Mumbai → 5\n",
      "\n",
      "Label encoding for 'class':\n",
      "Business → 0\n",
      "Economy → 1\n",
      "\n",
      "Label encoding for 'departure_time':\n",
      "Afternoon → 0\n",
      "Early_Morning → 1\n",
      "Evening → 2\n",
      "Late_Night → 3\n",
      "Morning → 4\n",
      "Night → 5\n",
      "\n",
      "✅ Data is encoded and scaled!\n",
      "x_scaled shape: (300153, 6)\n",
      "y_array shape: (300153,)\n",
      "Sample x_scaled:\n",
      " [[-0.32972125  1.3824254   0.67257558 -1.39753079 -1.84387477 -0.23789746]\n",
      " [-0.32972125  1.3824254   0.67257558 -1.3752838  -1.84387477 -0.80793408]\n",
      " [-0.32972125  1.3824254   0.67257558 -1.39753079 -1.84387477 -0.80793408]\n",
      " [-0.32972125  1.3824254   0.67257558 -1.38640729 -1.84387477  0.90217577]\n",
      " [-0.32972125  1.3824254   0.67257558 -1.3752838  -1.84387477  0.90217577]]\n",
      "Sample y:\n",
      " [5953 5953 5956 5955 5955]\n"
     ]
    }
   ],
   "source": [
    "from sklearn.preprocessing import LabelEncoder, StandardScaler\n",
    "\n",
    "# Load dataset\n",
    "df = pd.read_csv(\"Clean_Dataset.csv\")\n",
    "\n",
    "# Label encoding for categorical columns\n",
    "categorical_cols = ['source_city', 'destination_city', 'class', 'departure_time']\n",
    "label_encoders = {}\n",
    "\n",
    "for col in categorical_cols:\n",
    "    le = LabelEncoder()\n",
    "    df[col] = le.fit_transform(df[col])\n",
    "    label_encoders[col] = le  # Save encoder for possible inverse_transform later\n",
    "    print(f\"Label encoding for '{col}':\")\n",
    "    for i, val in enumerate(le.classes_):\n",
    "        print(f\"{val} → {i}\")\n",
    "    print()\n",
    "\n",
    "# Select features and target\n",
    "features = ['source_city', 'destination_city', 'class', 'duration', 'days_left', 'departure_time']\n",
    "X = df[features]\n",
    "y = df['price']\n",
    "\n",
    "# Convert to numpy arrays\n",
    "x_array = np.array(X)\n",
    "y_array = np.array(y)\n",
    "\n",
    "# Standardize features\n",
    "scaler = StandardScaler()\n",
    "x_scaled = scaler.fit_transform(x_array)\n",
    "\n",
    "print(\"✅ Data is encoded and scaled!\")\n",
    "print(\"x_scaled shape:\", x_scaled.shape)\n",
    "print(\"y_array shape:\", y_array.shape)\n",
    "print(\"Sample x_scaled:\\n\", x_scaled[:5])\n",
    "print(\"Sample y:\\n\", y_array[:5])\n"
   ]
  },
  {
   "cell_type": "code",
   "execution_count": 55,
   "id": "8ae76307",
   "metadata": {},
   "outputs": [],
   "source": [
    "def calc_cost(x,y,w,b):\n",
    "    # Calculate the cost function\n",
    "    m=x.shape[0]\n",
    "    total_cost=0\n",
    "    cost=0\n",
    "    for i in range(m):\n",
    "        fx=0\n",
    "        fx=np.dot(w,x[i])+b\n",
    "        cost+=(fx-y[i])**2\n",
    "    total_cost=cost/(2*m)\n",
    "    return total_cost\n"
   ]
  },
  {
   "cell_type": "code",
   "execution_count": 56,
   "id": "37e54805",
   "metadata": {},
   "outputs": [
    {
     "name": "stdout",
     "output_type": "stream",
     "text": [
      "cost : 475685514.8672656\n"
     ]
    }
   ],
   "source": [
    "i_w=[0.1,0.1,0.1,0.1,0.1,0.1]\n",
    "init_w=np.array(i_w)\n",
    "init_b=0\n",
    "x=calc_cost(x_array,y_array,init_w,init_b)\n",
    "print(\"cost :\",x)\n",
    "# checking cost for some random values of w and b \n"
   ]
  },
  {
   "cell_type": "markdown",
   "id": "5806804f",
   "metadata": {},
   "source": [
    "The expected value for this value of w and b should be 475686827.4259583. If then its correct because of the random values of w and b "
   ]
  },
  {
   "cell_type": "code",
   "execution_count": 57,
   "id": "f91dd235",
   "metadata": {},
   "outputs": [],
   "source": [
    "# def calc_gradient(x,y,w,b):\n",
    "#     m=x.shape[0]\n",
    "#     cost_w=cost_b=0\n",
    "#     dw=np.zeros_like(w)\n",
    "#     db=0\n",
    "#     for i in range(m):\n",
    "#         fx=0\n",
    "#         fx=np.dot(w,x[i])+b\n",
    "#         error=fx-y[i]\n",
    "#         cost_b+=error*x[i]\n",
    "#         cost_w+=error\n",
    "#     dw=cost_w/m\n",
    "#     db=cost_b/m\n",
    "#     return dw,db\n",
    "def calc_gradient(x, y, w, b):\n",
    "    m = x.shape[0]\n",
    "    fx = np.dot(x, w) + b        \n",
    "    error = fx - y               \n",
    "    dw = np.dot(x.T, error) / m \n",
    "    db = np.sum(error) / m     \n",
    "    return dw, db\n",
    "\n",
    "# gradient function calulating dj/dw and dj/db using that in geadient desent \n",
    "        "
   ]
  },
  {
   "cell_type": "code",
   "execution_count": 58,
   "id": "d97084a1",
   "metadata": {},
   "outputs": [
    {
     "name": "stdout",
     "output_type": "stream",
     "text": [
      "[ -54015.47960713  -54246.38548206   -4522.1103795  -288568.90138607\n",
      " -514789.43305349  -52807.84498189] \n",
      " -20885.0107691544\n"
     ]
    }
   ],
   "source": [
    "i_w=[0.1,0.1,0.1,0.1,0.1,0.1]\n",
    "init_w=np.array(i_w)\n",
    "init_b=0\n",
    "grd_w, grd_b=calc_gradient(x_array,y_array,init_w,init_b)\n",
    "print(grd_w,\"\\n\",grd_b)"
   ]
  },
  {
   "cell_type": "code",
   "execution_count": 59,
   "id": "39c8063b",
   "metadata": {},
   "outputs": [],
   "source": [
    "import math\n",
    "def gradient_desent(x,y,w,b,calc_gradient,calc_cost,alpha,iterations):\n",
    "    w_in=w\n",
    "    b_in=b\n",
    "    cost_his=[]\n",
    "    for i in range(iterations):\n",
    "        dw, db=calc_gradient(x,y,w_in,b_in)\n",
    "        w_in=w_in-(alpha*dw)\n",
    "        b_in=b_in-(alpha*db)\n",
    "        if i % 10 == 0:\n",
    "            print(f\"dw: {dw}, db: {db}\")\n",
    "        cost=calc_cost(x,y,w_in,b_in)\n",
    "        cost_his.append(cost)\n",
    "        if i % max(1, iterations // 10) == 0:\n",
    "            print(f\"Iteration {i}: Cost {cost:.4f}\")\n",
    "    return w_in,b_in,cost_his\n",
    "    "
   ]
  },
  {
   "cell_type": "code",
   "execution_count": null,
   "id": "8936dc9c",
   "metadata": {},
   "outputs": [
    {
     "name": "stdout",
     "output_type": "stream",
     "text": [
      "dw: [ -104.28412619  -108.83589971 21287.29999305 -4635.38407458\n",
      "  2087.02291627 -1323.70281433], db: -20889.660523133203\n",
      "Iteration 0: Cost 466658501.9174\n",
      "dw: [  -93.03935949  -102.13692234 19186.36742859 -3905.68010362\n",
      "  1845.80925171 -1058.71155544], db: -18892.23453014071\n",
      "Iteration 10: Cost 385144311.1182\n",
      "dw: [  -83.24615126   -95.73451825 17296.91840978 -3275.1480174\n",
      "  1632.75822891  -834.80811419], db: -17085.798265921647\n",
      "Iteration 20: Cost 318925430.3581\n",
      "dw: [  -74.70483247   -89.63757212 15597.26514602 -2731.22416024\n",
      "  1444.57024542  -646.28112845], db: -15452.089688916052\n",
      "Iteration 30: Cost 265103880.7142\n",
      "dw: [  -67.24323706   -83.84962683 14067.98193719 -2262.8748705\n",
      "  1278.33215317  -488.1665004 ], db: -13974.592936084053\n",
      "Iteration 40: Cost 221336092.7053\n",
      "dw: [  -60.71298451   -78.36996546 12691.66567309 -1860.41461002\n",
      "  1131.47210292  -356.15328136], db: -12638.371356939077\n",
      "Iteration 50: Cost 185725826.2484\n",
      "dw: [  -54.98625397   -73.19451612 11452.72201898 -1515.34537874\n",
      "  1001.71964778  -246.50110754], db: -11429.9165125204\n",
      "Iteration 60: Cost 156737965.7611\n",
      "dw: [  -49.95298625   -68.3166058  10337.17450254 -1220.21494901\n",
      "   887.07049558  -155.96779471], db: -10337.011612770595\n",
      "Iteration 70: Cost 133129084.0986\n",
      "dw: [ -45.51845798  -63.72758618 9332.49402193 -968.49173761  785.75537011\n",
      "  -81.74586583], db: -9348.60801174758\n",
      "Iteration 80: Cost 113891483.7068\n",
      "dw: [ -41.60117955  -59.41735089 8427.44656588 -754.45438476  696.21250409\n",
      "  -21.40693084], db: -8454.713512108208\n",
      "Iteration 90: Cost 98208075.1253\n",
      "[    64.4796822      79.89212787 -13340.45957997   2125.02843045\n",
      "  -1211.42192211    458.54103987] \n",
      "\n"
     ]
    },
    {
     "data": {
      "image/png": "[encoded data removed]",
      "text/plain": [
       "<Figure size 640x480 with 1 Axes>"
      ]
     },
     "metadata": {},
     "output_type": "display_data"
    }
   ],
   "source": [
    "i_w=[0,0,0,0,0,0]\n",
    "init_w=np.array(i_w)\n",
    "init_b=0\n",
    "alpha=0.01\n",
    "itera=1000\n",
    "from sklearn.preprocessing import StandardScaler\n",
    "\n",
    "scaler = StandardScaler()\n",
    "x_scaled = scaler.fit_transform(x_array)\n",
    "\n",
    "fin_w, fin_b, cost_history=gradient_desent(x_scaled,y_array,init_w,init_b,calc_gradient,calc_cost,alpha,itera)\n",
    "print(fin_w,\"\\n\")\n",
    "\n",
    "\n",
    "plt.plot(cost_history)\n",
    "plt.xlabel(\"Iterations\")\n",
    "plt.ylabel(\"Cost\")\n",
    "plt.title(\"Cost Reduction Over Time\")\n",
    "plt.grid(True)\n",
    "plt.show()\n",
    "\n"
   ]
  }
 ],
 "metadata": {
  "kernelspec": {
   "display_name": "base",
   "language": "python",
   "name": "python3"
  },
  "language_info": {
   "codemirror_mode": {
    "name": "ipython",
    "version": 3
   },
   "file_extension": ".py",
   "mimetype": "text/x-python",
   "name": "python",
   "nbconvert_exporter": "python",
   "pygments_lexer": "ipython3",
   "version": "3.12.7"
  }
 },
 "nbformat": 4,
 "nbformat_minor": 5
}
