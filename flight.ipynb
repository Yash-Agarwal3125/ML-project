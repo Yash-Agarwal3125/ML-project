{
 "cells": [
  {
   "cell_type": "code",
   "execution_count": 71,
   "id": "a5ae1ae9",
   "metadata": {},
   "outputs": [
    {
     "data": {
      "text/html": [
       "<div>\n",
       "<style scoped>\n",
       "    .dataframe tbody tr th:only-of-type {\n",
       "        vertical-align: middle;\n",
       "    }\n",
       "\n",
       "    .dataframe tbody tr th {\n",
       "        vertical-align: top;\n",
       "    }\n",
       "\n",
       "    .dataframe thead th {\n",
       "        text-align: right;\n",
       "    }\n",
       "</style>\n",
       "<table border=\"1\" class=\"dataframe\">\n",
       "  <thead>\n",
       "    <tr style=\"text-align: right;\">\n",
       "      <th></th>\n",
       "      <th>Unnamed: 0</th>\n",
       "      <th>airline</th>\n",
       "      <th>flight</th>\n",
       "      <th>source_city</th>\n",
       "      <th>departure_time</th>\n",
       "      <th>stops</th>\n",
       "      <th>arrival_time</th>\n",
       "      <th>destination_city</th>\n",
       "      <th>class</th>\n",
       "      <th>duration</th>\n",
       "      <th>days_left</th>\n",
       "      <th>price</th>\n",
       "    </tr>\n",
       "  </thead>\n",
       "  <tbody>\n",
       "    <tr>\n",
       "      <th>0</th>\n",
       "      <td>0</td>\n",
       "      <td>SpiceJet</td>\n",
       "      <td>SG-8709</td>\n",
       "      <td>Delhi</td>\n",
       "      <td>Evening</td>\n",
       "      <td>zero</td>\n",
       "      <td>Night</td>\n",
       "      <td>Mumbai</td>\n",
       "      <td>Economy</td>\n",
       "      <td>2.17</td>\n",
       "      <td>1</td>\n",
       "      <td>5953</td>\n",
       "    </tr>\n",
       "    <tr>\n",
       "      <th>1</th>\n",
       "      <td>1</td>\n",
       "      <td>SpiceJet</td>\n",
       "      <td>SG-8157</td>\n",
       "      <td>Delhi</td>\n",
       "      <td>Early_Morning</td>\n",
       "      <td>zero</td>\n",
       "      <td>Morning</td>\n",
       "      <td>Mumbai</td>\n",
       "      <td>Economy</td>\n",
       "      <td>2.33</td>\n",
       "      <td>1</td>\n",
       "      <td>5953</td>\n",
       "    </tr>\n",
       "    <tr>\n",
       "      <th>2</th>\n",
       "      <td>2</td>\n",
       "      <td>AirAsia</td>\n",
       "      <td>I5-764</td>\n",
       "      <td>Delhi</td>\n",
       "      <td>Early_Morning</td>\n",
       "      <td>zero</td>\n",
       "      <td>Early_Morning</td>\n",
       "      <td>Mumbai</td>\n",
       "      <td>Economy</td>\n",
       "      <td>2.17</td>\n",
       "      <td>1</td>\n",
       "      <td>5956</td>\n",
       "    </tr>\n",
       "    <tr>\n",
       "      <th>3</th>\n",
       "      <td>3</td>\n",
       "      <td>Vistara</td>\n",
       "      <td>UK-995</td>\n",
       "      <td>Delhi</td>\n",
       "      <td>Morning</td>\n",
       "      <td>zero</td>\n",
       "      <td>Afternoon</td>\n",
       "      <td>Mumbai</td>\n",
       "      <td>Economy</td>\n",
       "      <td>2.25</td>\n",
       "      <td>1</td>\n",
       "      <td>5955</td>\n",
       "    </tr>\n",
       "    <tr>\n",
       "      <th>4</th>\n",
       "      <td>4</td>\n",
       "      <td>Vistara</td>\n",
       "      <td>UK-963</td>\n",
       "      <td>Delhi</td>\n",
       "      <td>Morning</td>\n",
       "      <td>zero</td>\n",
       "      <td>Morning</td>\n",
       "      <td>Mumbai</td>\n",
       "      <td>Economy</td>\n",
       "      <td>2.33</td>\n",
       "      <td>1</td>\n",
       "      <td>5955</td>\n",
       "    </tr>\n",
       "  </tbody>\n",
       "</table>\n",
       "</div>"
      ],
      "text/plain": [
       "   Unnamed: 0   airline   flight source_city departure_time stops  \\\n",
       "0           0  SpiceJet  SG-8709       Delhi        Evening  zero   \n",
       "1           1  SpiceJet  SG-8157       Delhi  Early_Morning  zero   \n",
       "2           2   AirAsia   I5-764       Delhi  Early_Morning  zero   \n",
       "3           3   Vistara   UK-995       Delhi        Morning  zero   \n",
       "4           4   Vistara   UK-963       Delhi        Morning  zero   \n",
       "\n",
       "    arrival_time destination_city    class  duration  days_left  price  \n",
       "0          Night           Mumbai  Economy      2.17          1   5953  \n",
       "1        Morning           Mumbai  Economy      2.33          1   5953  \n",
       "2  Early_Morning           Mumbai  Economy      2.17          1   5956  \n",
       "3      Afternoon           Mumbai  Economy      2.25          1   5955  \n",
       "4        Morning           Mumbai  Economy      2.33          1   5955  "
      ]
     },
     "execution_count": 71,
     "metadata": {},
     "output_type": "execute_result"
    }
   ],
   "source": [
    "import pandas as pd\n",
    "import numpy as np   \n",
    "import matplotlib.pyplot as plt\n",
    "import seaborn as sns\n",
    "#importing required libereries\n",
    "sns.set_theme(style='whitegrid')\n",
    "%matplotlib inline\n",
    "df=pd.read_csv(\"Clean_Dataset.csv\")    #loading data present in the same folder\n",
    "df.head()\n"
   ]
  },
  {
   "cell_type": "code",
   "execution_count": 72,
   "id": "464cdd0a",
   "metadata": {},
   "outputs": [
    {
     "name": "stdout",
     "output_type": "stream",
     "text": [
      "<class 'pandas.core.frame.DataFrame'>\n",
      "RangeIndex: 300153 entries, 0 to 300152\n",
      "Data columns (total 12 columns):\n",
      " #   Column            Non-Null Count   Dtype  \n",
      "---  ------            --------------   -----  \n",
      " 0   Unnamed: 0        300153 non-null  int64  \n",
      " 1   airline           300153 non-null  object \n",
      " 2   flight            300153 non-null  object \n",
      " 3   source_city       300153 non-null  object \n",
      " 4   departure_time    300153 non-null  object \n",
      " 5   stops             300153 non-null  object \n",
      " 6   arrival_time      300153 non-null  object \n",
      " 7   destination_city  300153 non-null  object \n",
      " 8   class             300153 non-null  object \n",
      " 9   duration          300153 non-null  float64\n",
      " 10  days_left         300153 non-null  int64  \n",
      " 11  price             300153 non-null  int64  \n",
      "dtypes: float64(1), int64(3), object(8)\n",
      "memory usage: 27.5+ MB\n"
     ]
    },
    {
     "data": {
      "text/plain": [
       "Unnamed: 0          0\n",
       "airline             0\n",
       "flight              0\n",
       "source_city         0\n",
       "departure_time      0\n",
       "stops               0\n",
       "arrival_time        0\n",
       "destination_city    0\n",
       "class               0\n",
       "duration            0\n",
       "days_left           0\n",
       "price               0\n",
       "dtype: int64"
      ]
     },
     "execution_count": 72,
     "metadata": {},
     "output_type": "execute_result"
    }
   ],
   "source": [
    "df.info()\n",
    "df.describe()\n",
    "df.columns\n",
    "df.isnull().sum()\n",
    "#data checking \n"
   ]
  },
  {
   "cell_type": "code",
   "execution_count": 73,
   "id": "b3e72073",
   "metadata": {},
   "outputs": [
    {
     "data": {
      "image/png": "[encoded data removed]",
      "text/plain": [
       "<Figure size 1500x500 with 1 Axes>"
      ]
     },
     "metadata": {},
     "output_type": "display_data"
    }
   ],
   "source": [
    "plt.figure(figsize=(15,5))\n",
    "sns.histplot(df['price'], bins=50)\n",
    "plt.title(\"Distribution of Flight Prices\")\n",
    "plt.xlabel(\"Price\")\n",
    "plt.ylabel(\"Frequency\")\n",
    "plt.show()\n",
    "#ploting basic graphs for information \n"
   ]
  },
  {
   "cell_type": "code",
   "execution_count": 74,
   "id": "53a165fa",
   "metadata": {},
   "outputs": [
    {
     "data": {
      "image/png": "[encoded data removed]",
      "text/plain": [
       "<Figure size 1000x500 with 1 Axes>"
      ]
     },
     "metadata": {},
     "output_type": "display_data"
    }
   ],
   "source": [
    "plt.figure(figsize=(10,5))\n",
    "sns.countplot(y='airline', data=df, order=df['airline'].value_counts().index)\n",
    "plt.title(\"Flight Count per Airline\")\n",
    "plt.xlabel(\"Count\")\n",
    "plt.ylabel(\"Airline\")\n",
    "plt.show()\n",
    "#ploting graphs for understanding datsset\n"
   ]
  },
  {
   "cell_type": "code",
   "execution_count": 75,
   "id": "5c8dae43",
   "metadata": {},
   "outputs": [
    {
     "name": "stderr",
     "output_type": "stream",
     "text": [
      "C:\\Users\\Yash\\AppData\\Local\\Temp\\ipykernel_10068\\2257824448.py:1: FutureWarning: Downcasting behavior in `replace` is deprecated and will be removed in a future version. To retain the old behavior, explicitly call `result.infer_objects(copy=False)`. To opt-in to the future behavior, set `pd.set_option('future.no_silent_downcasting', True)`\n",
      "  df[\"class\"]=df[\"class\"].replace({\n"
     ]
    }
   ],
   "source": [
    "df[\"class\"]=df[\"class\"].replace({\n",
    "    'Economy':1,\n",
    "    'Business':0\n",
    "})\n",
    "#changing \"Economy\" \"Business\" to 1 and 0 making it easy for model to understad \n"
   ]
  },
  {
   "cell_type": "code",
   "execution_count": 76,
   "id": "2f4c96fa",
   "metadata": {},
   "outputs": [
    {
     "name": "stderr",
     "output_type": "stream",
     "text": [
      "C:\\Users\\Yash\\AppData\\Local\\Temp\\ipykernel_10068\\2925434300.py:1: FutureWarning: Downcasting behavior in `replace` is deprecated and will be removed in a future version. To retain the old behavior, explicitly call `result.infer_objects(copy=False)`. To opt-in to the future behavior, set `pd.set_option('future.no_silent_downcasting', True)`\n",
      "  df[\"departure_time\"]=df[\"departure_time\"].replace({\n"
     ]
    }
   ],
   "source": [
    "df[\"departure_time\"]=df[\"departure_time\"].replace({\n",
    "    'Early_Morning':0,\n",
    "    'Morning':1,\n",
    "    'Afternoon':2,\n",
    "    'Evening':3,\n",
    "    'Night':4,\n",
    "    'Late_Night':5\n",
    "})\n",
    "#changing timings to integer line 0,1,2.... making easy for model\n"
   ]
  },
  {
   "cell_type": "code",
   "execution_count": 77,
   "id": "eefd5fe2",
   "metadata": {},
   "outputs": [],
   "source": [
    "# sor_city=input()\n",
    "# des_city=input()\n",
    "\n"
   ]
  },
  {
   "cell_type": "code",
   "execution_count": 78,
   "id": "899421fd",
   "metadata": {},
   "outputs": [
    {
     "name": "stdout",
     "output_type": "stream",
     "text": [
      "Bangalore → 0\n",
      "Chennai → 1\n",
      "Delhi → 2\n",
      "Hyderabad → 3\n",
      "Kolkata → 4\n",
      "Mumbai → 5\n"
     ]
    },
    {
     "data": {
      "text/plain": [
       "'Bangalore → 0\\nChennai → 1\\nDelhi → 2\\nHyderabad → 3\\nKolkata → 4\\nMumbai → 5'"
      ]
     },
     "execution_count": 78,
     "metadata": {},
     "output_type": "execute_result"
    }
   ],
   "source": [
    "\n",
    "from sklearn.preprocessing import LabelEncoder\n",
    "\n",
    "le = LabelEncoder()\n",
    "\n",
    "# Fit and transform\n",
    "df['source_city_encoded'] = le.fit_transform(df['source_city'])\n",
    "# Print the mapping\n",
    "for i, city in enumerate(le.classes_):\n",
    "    print(f\"{city} → {i}\")\n",
    "\"\"\"Bangalore → 0\n",
    "Chennai → 1\n",
    "Delhi → 2\n",
    "Hyderabad → 3\n",
    "Kolkata → 4\n",
    "Mumbai → 5\"\"\""
   ]
  },
  {
   "cell_type": "code",
   "execution_count": null,
   "id": "61f0d3d6",
   "metadata": {},
   "outputs": [],
   "source": [
    "# source_city\tdeparture_time\tstops\tarrival_time\tdestination_city\tclass\tduration\tdays_left\tprice\n",
    "# features=['source_city','destination_city','class','duration','days_left','departure_time']\n",
    "# x=pd.get_dummies(df[features], drop_first=True)\n",
    "# y=df['price']\n",
    "# x_array=np.array(x)\n",
    "# y_array=np.array(y)\n",
    "from sklearn.preprocessing import LabelEncoder\n",
    "\n",
    "le = LabelEncoder()\n",
    "df['source_city'] = le.fit_transform(df['source_city'])\n",
    "df['destination_city'] = le.fit_transform(df['destination_city'])\n",
    "df['class'] = le.fit_transform(df['class'])\n",
    "df['departure_time'] = le.fit_transform(df['departure_time'])\n",
    "\n",
    "features = ['source_city', 'destination_city', 'class', 'duration', 'days_left', 'departure_time']\n",
    "X = df[features]\n",
    "y = df['price']\n",
    "\n",
    "x_array = np.array(X)\n",
    "y_array = np.array(y)\n",
    "# y = w1x1 + w2x2 + w3x3 + w4x4 + w5x5 + w6x6\n"
   ]
  },
  {
   "cell_type": "code",
   "execution_count": 95,
   "id": "8ae76307",
   "metadata": {},
   "outputs": [],
   "source": [
    "def com_cost(x,y,w,b):\n",
    "    # Calculate the cost function\n",
    "    m=x.shape[0]\n",
    "    total_cost=0\n",
    "    cost=0\n",
    "    for i in range(m):\n",
    "        fx=0\n",
    "        fx=np.dot(w,x[i])+b\n",
    "        cost+=(fx-y[i])**2\n",
    "    total_cost=cost/(2*m)\n",
    "    return total_cost\n"
   ]
  },
  {
   "cell_type": "code",
   "execution_count": 99,
   "id": "37e54805",
   "metadata": {},
   "outputs": [
    {
     "name": "stdout",
     "output_type": "stream",
     "text": [
      "cost : 475686827.4259583\n"
     ]
    }
   ],
   "source": [
    "i_w=[0.1,0.1,0.1,0.1,0.1,0.1]\n",
    "init_w=np.array(i_w)\n",
    "init_b=0\n",
    "x=com_cost(x_array,y_array,init_w,init_b)\n",
    "print(\"cost :\",x)\n",
    "# checking cost for some random values of w and b \n"
   ]
  },
  {
   "cell_type": "markdown",
   "id": "5806804f",
   "metadata": {},
   "source": [
    "The expected value for this value of w and b should be 475686827.4259583. If then its correct because of the random values of w and b "
   ]
  },
  {
   "cell_type": "code",
   "execution_count": null,
   "id": "f91dd235",
   "metadata": {},
   "outputs": [],
   "source": []
  }
 ],
 "metadata": {
  "kernelspec": {
   "display_name": "base",
   "language": "python",
   "name": "python3"
  },
  "language_info": {
   "codemirror_mode": {
    "name": "ipython",
    "version": 3
   },
   "file_extension": ".py",
   "mimetype": "text/x-python",
   "name": "python",
   "nbconvert_exporter": "python",
   "pygments_lexer": "ipython3",
   "version": "3.12.7"
  }
 },
 "nbformat": 4,
 "nbformat_minor": 5
}
